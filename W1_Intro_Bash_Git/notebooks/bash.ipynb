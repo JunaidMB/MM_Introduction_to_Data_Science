{
 "cells": [
  {
   "cell_type": "code",
   "execution_count": null,
   "metadata": {},
   "outputs": [],
   "source": []
  },
  {
   "cell_type": "markdown",
   "metadata": {},
   "source": [
    "# Bash Commands \n",
    "To run bash command you need a terminal and you can run in Jupyter notebook too.\n",
    "For example you can run the following command to list the current directory content. "
   ]
  },
  {
   "cell_type": "code",
   "execution_count": 1,
   "metadata": {},
   "outputs": [
    {
     "name": "stdout",
     "output_type": "stream",
     "text": [
      "README.md  bash.ipynb \u001b[34mdata\u001b[m\u001b[m       \u001b[34mtest_data\u001b[m\u001b[m\n"
     ]
    }
   ],
   "source": [
    "#List the current directory content\n",
    "!ls"
   ]
  },
  {
   "cell_type": "markdown",
   "metadata": {},
   "source": [
    "In order to run bash script in Jupyter you need to use the ! before the command: `!ls`"
   ]
  },
  {
   "cell_type": "code",
   "execution_count": 2,
   "metadata": {},
   "outputs": [
    {
     "name": "stdout",
     "output_type": "stream",
     "text": [
      "/Users/yusraibrahim/projects/MM_Introduction_to_Data_Science/W1_Intro_Bash_Git\n"
     ]
    }
   ],
   "source": [
    "# To get the name of the current directory use pwd : print working directory \n",
    "! pwd "
   ]
  },
  {
   "cell_type": "code",
   "execution_count": 3,
   "metadata": {},
   "outputs": [],
   "source": [
    "# Move to a directory using cd : change directory \n",
    "!cd ~\n",
    "# However this will not work in the notebook as it has limited access to you disk, so now we need to the terminal "
   ]
  },
  {
   "cell_type": "code",
   "execution_count": 4,
   "metadata": {},
   "outputs": [
    {
     "name": "stdout",
     "output_type": "stream",
     "text": [
      "README.md  bash.ipynb \u001b[34mdata\u001b[m\u001b[m       \u001b[34mtest_data\u001b[m\u001b[m\n"
     ]
    }
   ],
   "source": [
    "!ls"
   ]
  },
  {
   "cell_type": "markdown",
   "metadata": {},
   "source": [
    "## Execute the following commands on your terminal \n",
    "\n",
    "### Simple navigation commands \n",
    "\n",
    "#### List your current directory \n",
    "`ls` \n",
    "\n",
    "#### Move to one of the folders in this directory \n",
    "`cd projects` \n",
    "`ls`\n",
    "#### Move to a nested file/folder\n",
    "`cd MM_Introduction_to_Data_Science/W1_Intro_Bash_Git`\n",
    "#### Move up one or more steps \n",
    "`cd ../`\n",
    "`cd ../../`\n",
    "\n",
    "#### Make a new directory using mkdir \n",
    "`mkdir test_data` \n",
    "#### Copy a file or directory using the cp command\n",
    "This file is from https://file-examples.com/index.php/text-files-and-archives-download/  \n",
    "`cp data/file_example_CSV_5000.csv test_data/sample.csv`\n",
    "\n",
    "#### Move the file to data\n",
    "`mv test_data/sample.csv data/.`\n",
    "\n",
    "`ls`\n",
    "\n",
    "`mv data/sample.csv test_data/data.csv`\n",
    "#### Move to the data folder \n",
    "`cd test_data`\n",
    "\n",
    "\n",
    "\n",
    "### General commands\n",
    "\n",
    "#### View your Terminal history of commands\n",
    "`history`\n",
    "\n",
    "#### View the manual of a specific command\n",
    "\n",
    "`man histroy`\n",
    "\n",
    "\n",
    "#### Concatenate one (or more) file(s) to the terminal \n",
    "`cat data.csv`\n",
    "\n",
    "You can concatenate it to another file using >>\n",
    "\n",
    "`cat data.csv >> cp_data.txt`\n",
    "\n",
    "You use echo to add more contents to the end of the file\n",
    "\n",
    "`echo  \"Hello world\" >> cp_data.txt`\n",
    "\n",
    "You can view file end using tail \n",
    "\n",
    "`tail cp_data.txt`\n",
    "\n",
    "#### Search file content using grep\n",
    "`grep Hello cp_data.txt`\n",
    "\n",
    "\n",
    "\n",
    "#### Count the number of lines/words/characters using wc\n",
    "`wc data.csv`\n",
    "\n",
    "#### Sort (reverse order using -r or random -R)\n",
    "`sort data.csv`\n",
    "\n",
    "`sort -r data.csv`\n",
    "\n",
    "## Advanced commands\n",
    "\n",
    "#### sed - useful for substituting values \n",
    "print the last column only by substituing the other values with empty string\n",
    "\n",
    "`sed 's/.*,//' sample.csv`\n",
    "\n",
    "#### awk - useful for manupilating delimited files\n",
    "print out  columns in different order ($0 will print the whole line)\n",
    "\n",
    "`awk -F, '{print $2,$3,$1}' OFS=, sample.csv`\n"
   ]
  },
  {
   "cell_type": "code",
   "execution_count": null,
   "metadata": {},
   "outputs": [],
   "source": []
  }
 ],
 "metadata": {
  "kernelspec": {
   "display_name": "Python 3.7.4 64-bit",
   "language": "python",
   "name": "python3"
  },
  "language_info": {
   "codemirror_mode": {
    "name": "ipython",
    "version": 3
   },
   "file_extension": ".py",
   "mimetype": "text/x-python",
   "name": "python",
   "nbconvert_exporter": "python",
   "pygments_lexer": "ipython3",
   "version": "3.7.4"
  },
  "orig_nbformat": 4,
  "vscode": {
   "interpreter": {
    "hash": "aee8b7b246df8f9039afb4144a1f6fd8d2ca17a180786b69acc140d282b71a49"
   }
  }
 },
 "nbformat": 4,
 "nbformat_minor": 2
}
