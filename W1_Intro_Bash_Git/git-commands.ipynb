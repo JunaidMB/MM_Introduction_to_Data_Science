{
 "cells": [
  {
   "cell_type": "markdown",
   "metadata": {},
   "source": [
    "# Git & GitHub"
   ]
  },
  {
   "cell_type": "markdown",
   "metadata": {},
   "source": [
    "## Create a new repo\n",
    "Follow the istructions at https://docs.google.com/document/d/1XJaKdjLGkNOuMOoUPiRzQ0xZiXLBq6Tuo4K6HLk0cQw/edit#heading=h.oltl012x9zn2"
   ]
  },
  {
   "cell_type": "markdown",
   "metadata": {},
   "source": [
    "## Clone a repo\n",
    "\n",
    "`git clone git@github.com:yusrbi/MM-DiD-first-repo.git`\n",
    "\n",
    "`cd MM-DiD-first-repo`\n",
    "\n",
    "## Make and commit a change\n",
    "Download csv file from: https://file-examples.com/index.php/text-files-and-archives-download/ \n",
    "\n",
    "`cp  ~/Downloads/file_example_CSV_5000.csv sample.csv`\n",
    "\n",
    "Add the new file to your repository \n",
    "`git add sample.csv` \n",
    "\n",
    "Commit/save your changes \n",
    "`git commit -m\"add sample file\"`\n",
    "\n",
    "Push your changes to the remote repository (GitHub) \n",
    "`git push origin main`\n"
   ]
  },
  {
   "cell_type": "markdown",
   "metadata": {},
   "source": [
    "## Working with branches \n",
    "\n",
    "Create a new branch and check it out\n",
    "`git checkout -b reverse_sort`\n",
    "\n",
    "Reverse sort your file\n",
    "\n",
    "`sort -r sample.csv > sample_reversed.csv`\n",
    "\n",
    "Add the reversed file \n",
    "\n",
    "`git add sample_reversed.csv`\n",
    "\n",
    "Commit your changes and push to the branch\n",
    "\n",
    "`git commit -m\"reversed file\"`\n",
    "\n",
    "`git push -u origin reverse_sort`\n",
    "\n",
    "### Merge your branch to main \n",
    "\n",
    "#### Pull request \n",
    "Got to GitHub and create a pull request \n",
    "\n",
    "#### Using merge \n",
    "\n",
    "Checkout your main branch \n",
    "\n",
    "`git checkout  main`\n",
    "\n",
    "Merge your branch into it \n",
    "\n",
    "`git merge reverse_sort`\n",
    "\n",
    "push your changes\n",
    "\n",
    "`git push -u origin main`\n",
    "\n"
   ]
  },
  {
   "cell_type": "markdown",
   "metadata": {},
   "source": [
    "## Fork a repository "
   ]
  },
  {
   "cell_type": "markdown",
   "metadata": {},
   "source": [
    "Go to github and fork https://github.com/JunaidMB/MM_Introduction_to_Data_Science  "
   ]
  },
  {
   "cell_type": "markdown",
   "metadata": {},
   "source": []
  }
 ],
 "metadata": {
  "language_info": {
   "name": "python"
  },
  "orig_nbformat": 4
 },
 "nbformat": 4,
 "nbformat_minor": 2
}
