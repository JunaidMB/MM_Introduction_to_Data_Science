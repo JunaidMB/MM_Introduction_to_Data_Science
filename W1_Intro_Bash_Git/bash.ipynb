{
 "cells": [
  {
   "cell_type": "code",
   "execution_count": null,
   "metadata": {},
   "outputs": [],
   "source": []
  },
  {
   "cell_type": "markdown",
   "metadata": {},
   "source": [
    "# Bash Commands \n",
    "To run bash command you need a terminal and you can run in Jupyter notebook too.\n",
    "For example you can run the following command to list the current directory content. "
   ]
  },
  {
   "cell_type": "code",
   "execution_count": 1,
   "metadata": {},
   "outputs": [
    {
     "name": "stdout",
     "output_type": "stream",
     "text": [
      "README.md  bash.ipynb \u001b[34mdata\u001b[m\u001b[m       \u001b[34mtest_data\u001b[m\u001b[m\n"
     ]
    }
   ],
   "source": [
    "#List the current directory content\n",
    "!ls"
   ]
  },
  {
   "cell_type": "markdown",
   "metadata": {},
   "source": [
    "In order to run bash script in Jupyter you need to use the ! before the command: `!ls`"
   ]
  },
  {
   "cell_type": "code",
   "execution_count": 2,
   "metadata": {},
   "outputs": [
    {
     "name": "stdout",
     "output_type": "stream",
     "text": [
      "/Users/yusraibrahim/projects/MM_Introduction_to_Data_Science/W1_Intro_Bash_Git\n"
     ]
    }
   ],
   "source": [
    "# To get the name of the current directory use pwd : print working directory \n",
    "! pwd "
   ]
  },
  {
   "cell_type": "code",
   "execution_count": 3,
   "metadata": {},
   "outputs": [],
   "source": [
    "# Move to a directory using cd : change directory \n",
    "!cd ~\n",
    "# However this will not work in the notebook as it has limited access to you disk, so now we need to the terminal "
   ]
  },
  {
   "cell_type": "code",
   "execution_count": 4,
   "metadata": {},
   "outputs": [
    {
     "name": "stdout",
     "output_type": "stream",
     "text": [
      "README.md  bash.ipynb \u001b[34mdata\u001b[m\u001b[m       \u001b[34mtest_data\u001b[m\u001b[m\n"
     ]
    }
   ],
   "source": [
    "!ls"
   ]
  },
  {
   "cell_type": "code",
   "execution_count": null,
   "metadata": {},
   "outputs": [],
   "source": []
  }
 ],
 "metadata": {
  "kernelspec": {
   "display_name": "Python 3.7.4 64-bit",
   "language": "python",
   "name": "python3"
  },
  "language_info": {
   "codemirror_mode": {
    "name": "ipython",
    "version": 3
   },
   "file_extension": ".py",
   "mimetype": "text/x-python",
   "name": "python",
   "nbconvert_exporter": "python",
   "pygments_lexer": "ipython3",
   "version": "3.7.4"
  },
  "orig_nbformat": 4,
  "vscode": {
   "interpreter": {
    "hash": "aee8b7b246df8f9039afb4144a1f6fd8d2ca17a180786b69acc140d282b71a49"
   }
  }
 },
 "nbformat": 4,
 "nbformat_minor": 2
}
