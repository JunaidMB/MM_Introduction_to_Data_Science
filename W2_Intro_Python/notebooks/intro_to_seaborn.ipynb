{
 "cells": [
  {
   "cell_type": "markdown",
   "metadata": {},
   "source": [
    "# Introduction to Seaborn\n",
    "\n",
    "Seaborn is a basic plotting package in Python which is useful for visualising data. Please see the documentation for a complete tutorial of what this library can do:\n",
    "1. https://seaborn.pydata.org/\n",
    "\n",
    "There are also other powerful Python Visualisation libraries\n",
    "1. Plotly: https://plotly.com/python/\n",
    "2. Bokeh: https://bokeh.org/\n",
    "3. Altair: https://altair-viz.github.io/"
   ]
  },
  {
   "cell_type": "code",
   "execution_count": null,
   "metadata": {},
   "outputs": [],
   "source": [
    "import seaborn as sns\n",
    "import pandas as pd\n",
    "import numpy as np \n",
    "import matplotlib.pyplot as plt\n",
    "\n",
    "\n",
    "plt.style.use('classic')\n",
    "%matplotlib inline\n",
    "sns.set()"
   ]
  },
  {
   "cell_type": "code",
   "execution_count": null,
   "metadata": {},
   "outputs": [],
   "source": [
    "# Read in diamonds data\n",
    "diamonds = pd.read_csv(\"../data/diamonds.csv\")\n",
    "diamonds"
   ]
  },
  {
   "cell_type": "code",
   "execution_count": null,
   "metadata": {},
   "outputs": [],
   "source": [
    "# Bar Plot\n",
    "diamonds_grped = diamonds.groupby(['cut'], as_index=False).agg({'price': 'mean'})\n",
    "sns.barplot(x = 'cut', y = 'price', data = diamonds_grped)"
   ]
  },
  {
   "cell_type": "code",
   "execution_count": null,
   "metadata": {},
   "outputs": [],
   "source": [
    "# Line plot\n",
    "sns.lineplot(x = 'cut', y = 'price', data = diamonds_grped)"
   ]
  },
  {
   "cell_type": "code",
   "execution_count": null,
   "metadata": {},
   "outputs": [],
   "source": [
    "# Scatter plot\n",
    "sns.scatterplot(x = 'price', y = 'carat', data = diamonds)"
   ]
  },
  {
   "cell_type": "code",
   "execution_count": null,
   "metadata": {},
   "outputs": [],
   "source": [
    "# Histogram\n",
    "sns.displot(diamonds['price'], bins = 70, kde = False)"
   ]
  },
  {
   "cell_type": "code",
   "execution_count": null,
   "metadata": {},
   "outputs": [],
   "source": [
    "# Labelling Plots\n",
    "sns.barplot(x = 'cut', y = 'price', data = diamonds_grped)\n",
    "plt.xlabel(\"Mean Price\")\n",
    "plt.ylabel(\"Diamond Cut\")\n",
    "plt.title(\"Mean Price by Diamond Cut\")\n"
   ]
  },
  {
   "cell_type": "code",
   "execution_count": null,
   "metadata": {},
   "outputs": [],
   "source": [
    "# Save figure\n",
    "sns.barplot(x = 'cut', y = 'price', data = diamonds_grped)\n",
    "plt.xlabel(\"Mean Price\")\n",
    "plt.ylabel(\"Diamond Cut\")\n",
    "plt.title(\"Mean Price by Diamond Cut\")\n",
    "\n",
    "plt.savefig(\"../saved_plots/diamonds_barplot.png\")"
   ]
  },
  {
   "cell_type": "code",
   "execution_count": null,
   "metadata": {},
   "outputs": [],
   "source": []
  }
 ],
 "metadata": {
  "interpreter": {
   "hash": "96cff63d46835ee138d10fd39d21d7d26297495ac413b2cb20db842db91a06fd"
  },
  "kernelspec": {
   "display_name": "Python 3.10.2 ('muslamic_makers_intro_data')",
   "language": "python",
   "name": "python3"
  },
  "language_info": {
   "codemirror_mode": {
    "name": "ipython",
    "version": 3
   },
   "file_extension": ".py",
   "mimetype": "text/x-python",
   "name": "python",
   "nbconvert_exporter": "python",
   "pygments_lexer": "ipython3",
   "version": "3.10.2"
  },
  "orig_nbformat": 4
 },
 "nbformat": 4,
 "nbformat_minor": 2
}
