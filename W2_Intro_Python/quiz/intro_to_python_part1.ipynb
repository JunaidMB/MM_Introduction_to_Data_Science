{
 "cells": [
  {
   "cell_type": "markdown",
   "metadata": {},
   "source": [
    "# Questions\n",
    "**General Advice**\n",
    "- Create a new notebook in your forked repo.\n",
    "- Solve the following:\n",
    "- Please use variables when possible."
   ]
  },
  {
   "cell_type": "markdown",
   "metadata": {},
   "source": [
    "1). Write code that multiplies 2 integer values and prints the answer."
   ]
  },
  {
   "cell_type": "markdown",
   "metadata": {},
   "source": [
    "2). Write code that capitalizes, and concatenates two strings with a space in between (hint: you can use +) "
   ]
  },
  {
   "cell_type": "markdown",
   "metadata": {},
   "source": [
    "3). Convert the string '7789.98' to a float "
   ]
  },
  {
   "cell_type": "markdown",
   "metadata": {},
   "source": [
    "4). Write an expression that compares two values and returns True if either value is more than 5."
   ]
  },
  {
   "cell_type": "markdown",
   "metadata": {},
   "source": [
    "5). Write a multiline string with  your name and your hobbies (each at a separate line).\n"
   ]
  },
  {
   "cell_type": "markdown",
   "metadata": {},
   "source": [
    "6). Print 'today' in the following format:  \"{Name of Weekday} Day/Month/Year\". Hint: You should look at the `strftime` method. The below lookup table may be useful.\n",
    "\n",
    "| Type | Description   |\n",
    "|------|---------------|\n",
    "| %Y   | 4 digit year  |\n",
    "| %m   | 2 digit month |\n",
    "| %d   | 2 digit day   |\n",
    "| %A   | Weekday Name  |"
   ]
  },
  {
   "cell_type": "markdown",
   "metadata": {},
   "source": [
    "7). Assign 1 to a variable, then  write a while loop that multiplies the variable by 5 and breaks when the variable is more than 100."
   ]
  },
  {
   "cell_type": "markdown",
   "metadata": {},
   "source": [
    "8). Write code that checks a variable x (integer or string) and prints the following:\n",
    "    \n",
    "    \"Not an Integer\" if x is not an integer\n",
    "\n",
    "    \"Negative Number\" if x < 0\n",
    "    \n",
    "    \"Positive Number\" if x > 0 \n",
    "\n",
    "    \"Zero\" if x == 0\n",
    "    "
   ]
  },
  {
   "cell_type": "markdown",
   "metadata": {},
   "source": [
    "9). Assign the following list to a variable [0,2,4,1,3,5]:\n",
    "\n",
    "    a. Make a sublist with the even numbers. Hint: Use indexing\n",
    "    \n",
    "    b. Make a sublist with odd numbers. Hint: Use indexing\n",
    "    \n",
    "    c. Make a sublist with values from the first index to fourth index. Hint: Use slicing\n"
   ]
  },
  {
   "cell_type": "markdown",
   "metadata": {},
   "source": [
    "10). Consider the following list : [-1, 2,- 8, 83, -22, 33, -62, 9, -9, 12, -11]. Make a new list where only the positive numbers are retained. Hint: Use a for loop or list comprehension."
   ]
  },
  {
   "cell_type": "markdown",
   "metadata": {},
   "source": [
    "11). Convert the elements of the following list into numbers (float)  ['1', '2', '3.5', '20.9'] using loops then using list comprehension. "
   ]
  }
 ],
 "metadata": {
  "interpreter": {
   "hash": "96cff63d46835ee138d10fd39d21d7d26297495ac413b2cb20db842db91a06fd"
  },
  "kernelspec": {
   "display_name": "Python 3.10.2 ('muslamic_makers_intro_data')",
   "language": "python",
   "name": "python3"
  },
  "language_info": {
   "codemirror_mode": {
    "name": "ipython",
    "version": 3
   },
   "file_extension": ".py",
   "mimetype": "text/x-python",
   "name": "python",
   "nbconvert_exporter": "python",
   "pygments_lexer": "ipython3",
   "version": "3.10.2"
  },
  "orig_nbformat": 4
 },
 "nbformat": 4,
 "nbformat_minor": 2
}
